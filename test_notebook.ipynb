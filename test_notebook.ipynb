{
 "cells": [
  {
   "cell_type": "code",
   "execution_count": null,
   "metadata": {},
   "outputs": [
    {
     "ename": "",
     "evalue": "",
     "output_type": "error",
     "traceback": [
      "\u001b[1;31mRunning cells with 'venv (Python 3.12.4)' requires the ipykernel package.\n",
      "\u001b[1;31mRun the following command to install 'ipykernel' into the Python environment. \n",
      "\u001b[1;31mCommand: '/Users/hamishburke/Documents/Coding/DifferentialRenderer/venv/bin/python -m pip install ipykernel -U --force-reinstall'"
     ]
    }
   ],
   "source": [
    "from data_utils import load_dataset,get_unique_dict,root,malware\n",
    "import numpy as np"
   ]
  },
  {
   "cell_type": "code",
   "execution_count": null,
   "metadata": {},
   "outputs": [],
   "source": [
    "dfs = load_dataset(root,malware)\n",
    "\n",
    "## stack into one\n",
    "all_data = dfs[0]\n",
    "for i in range(1,len(dfs)):\n",
    "    # will skip this for now, only will use first file\n",
    "    all_data = np.concatenate(all_data,dfs[i]) # have to convert to numpy array\n",
    "\n",
    "\n",
    "\n",
    "## create dict of unique values for each feature\n",
    "unique_values = get_unique_dict(all_data)\n",
    "\n",
    "for column in unique_values.columns:\n",
    "    values = unique_values[column]\n",
    "    print(len(values),\" unique values for \", column)"
   ]
  }
 ],
 "metadata": {
  "kernelspec": {
   "display_name": "venv",
   "language": "python",
   "name": "python3"
  },
  "language_info": {
   "name": "python",
   "version": "3.12.4"
  }
 },
 "nbformat": 4,
 "nbformat_minor": 2
}
